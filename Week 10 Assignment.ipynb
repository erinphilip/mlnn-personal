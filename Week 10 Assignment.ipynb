{
 "cells": [
  {
   "cell_type": "markdown",
   "metadata": {},
   "source": [
    "## Neural Networks image recognition - MultiLayer Perceptron\n",
    "Use both MLNN for the following problem.\n",
    "\n",
    "1. Add random noise (see below on `size parameter` on [`np.random.normal`](https://numpy.org/doc/stable/reference/random/generated/numpy.random.normal.html)) to the images in training and testing. **Make sure each image gets a different noise feature added to it. Inspect by printing out several images. Note - the `size` parameter should match the data. **\n",
    "2. Compare the `accuracy` of train and val after N epochs for MLNN with and without noise. \n",
    "3. Vary the amount of noise by changing the `scale` parameter in `np.random.normal` by a factor. Use `.1, .5, 1.0, 2.0, 4.0` for the `scale` and keep track of the `accuracy` for training and validation and plot these results."
   ]
  },
  {
   "cell_type": "markdown",
   "metadata": {},
   "source": [
    "# `np.random.normal`\n",
    "\n",
    "## Parameters\n",
    "\n",
    "### loc\n",
    "\n",
    "Mean (“centre”) of the distribution.\n",
    "\n",
    "### scale\n",
    "\n",
    "Standard deviation (spread or “width”) of the distribution. Must be non-negative.\n",
    "\n",
    "### size\n",
    "\n",
    "Output shape. If the given shape is, e.g., (m, n, k), then m * n * k samples are drawn. If size is None (default), a single value is returned if loc and scale are both scalars. Otherwise, np.broadcast(loc, scale).size samples are drawn."
   ]
  },
  {
   "cell_type": "markdown",
   "metadata": {},
   "source": [
    "# Neural Networks - Image Recognition "
   ]
  },
  {
   "cell_type": "code",
   "execution_count": 2,
   "metadata": {},
   "outputs": [],
   "source": [
    "import keras\n",
    "from keras.datasets import mnist\n",
    "from keras.models import Sequential\n",
    "from keras.optimizers import RMSprop\n",
    "from keras.layers import Dense, Dropout, Flatten\n",
    "from keras.layers import Conv2D, MaxPooling2D\n",
    "from keras import backend"
   ]
  },
  {
   "cell_type": "code",
   "execution_count": 3,
   "metadata": {},
   "outputs": [],
   "source": [
    "import numpy as np\n",
    "import matplotlib.pyplot as  plt\n",
    "%matplotlib inline"
   ]
  },
  {
   "cell_type": "markdown",
   "metadata": {},
   "source": [
    "## Multi Layer Neural Network\n",
    "Trains a simple deep NN on the MNIST dataset.\n",
    "Gets to 98.40% test accuracy after 20 epochs\n",
    "(there is *a lot* of margin for parameter tuning)."
   ]
  },
  {
   "cell_type": "code",
   "execution_count": 4,
   "metadata": {},
   "outputs": [],
   "source": [
    "# the data, shuffled and split between train and test sets\n",
    "(x_train, y_train), (x_test, y_test) = mnist.load_data()"
   ]
  },
  {
   "cell_type": "code",
   "execution_count": 5,
   "metadata": {},
   "outputs": [
    {
     "data": {
      "text/plain": [
       "<matplotlib.image.AxesImage at 0x208f9ed3a60>"
      ]
     },
     "execution_count": 5,
     "metadata": {},
     "output_type": "execute_result"
    },
    {
     "data": {
      "image/png": "[encoded data removed]",
      "text/plain": [
       "<Figure size 640x480 with 1 Axes>"
      ]
     },
     "metadata": {},
     "output_type": "display_data"
    }
   ],
   "source": [
    "plt.imshow(x_train[78])"
   ]
  },
  {
   "cell_type": "code",
   "execution_count": 6,
   "metadata": {},
   "outputs": [
    {
     "name": "stdout",
     "output_type": "stream",
     "text": [
      "60000 train samples\n",
      "10000 test samples\n"
     ]
    }
   ],
   "source": [
    "x_train = x_train.reshape(60000, 784)\n",
    "x_test = x_test.reshape(10000, 784)\n",
    "x_train = x_train.astype('float32')\n",
    "x_test = x_test.astype('float32')\n",
    "x_train /= 255\n",
    "x_test /= 255\n",
    "print(x_train.shape[0], 'train samples')\n",
    "print(x_test.shape[0], 'test samples')"
   ]
  },
  {
   "cell_type": "code",
   "execution_count": 7,
   "metadata": {},
   "outputs": [
    {
     "data": {
      "text/plain": [
       "array([[ 0.08126593, -0.01748779, -0.20381171, ..., -0.15566238,\n",
       "        -0.0870981 ,  0.12440182],\n",
       "       [-0.03588134, -0.11944615, -0.0259188 , ...,  0.14859197,\n",
       "         0.12646918, -0.2767158 ],\n",
       "       [ 0.1003411 , -0.03608804, -0.52189944, ..., -0.09436418,\n",
       "        -0.15030536, -0.17801373],\n",
       "       ...,\n",
       "       [-0.09082036, -0.35341562, -0.43288236, ..., -0.21343308,\n",
       "         0.45737721,  0.49896356],\n",
       "       [ 0.12160961,  0.2119458 ,  0.15881856, ...,  0.19184773,\n",
       "        -0.13099561, -0.223774  ],\n",
       "       [ 0.12313619,  0.22572214, -0.1410415 , ...,  0.04241977,\n",
       "         0.09899116,  0.05288966]])"
      ]
     },
     "execution_count": 7,
     "metadata": {},
     "output_type": "execute_result"
    }
   ],
   "source": [
    "# Noise is added here\n",
    "# The max value of the noise should not grossly surpass 1.0\n",
    "\n",
    "train_noise = np.random.normal(loc = 0, scale = .2, size = (60000, 784))\n",
    "train_noise"
   ]
  },
  {
   "cell_type": "code",
   "execution_count": 8,
   "metadata": {},
   "outputs": [
    {
     "data": {
      "text/plain": [
       "1.0742734042970077"
      ]
     },
     "execution_count": 8,
     "metadata": {},
     "output_type": "execute_result"
    }
   ],
   "source": [
    "# using scale of .2 results in a max train_noise value of slightly greater than 1\n",
    "np.max(train_noise)"
   ]
  },
  {
   "cell_type": "code",
   "execution_count": 9,
   "metadata": {},
   "outputs": [
    {
     "data": {
      "text/plain": [
       "array([[ 0.08126593, -0.01748779, -0.20381171, ..., -0.15566238,\n",
       "        -0.0870981 ,  0.12440182],\n",
       "       [-0.03588134, -0.11944615, -0.0259188 , ...,  0.14859197,\n",
       "         0.12646918, -0.2767158 ],\n",
       "       [ 0.1003411 , -0.03608804, -0.52189944, ..., -0.09436418,\n",
       "        -0.15030536, -0.17801373],\n",
       "       ...,\n",
       "       [-0.09082036, -0.35341562, -0.43288236, ..., -0.21343308,\n",
       "         0.45737721,  0.49896356],\n",
       "       [ 0.12160961,  0.2119458 ,  0.15881856, ...,  0.19184773,\n",
       "        -0.13099561, -0.223774  ],\n",
       "       [ 0.12313619,  0.22572214, -0.1410415 , ...,  0.04241977,\n",
       "         0.09899116,  0.05288966]])"
      ]
     },
     "execution_count": 9,
     "metadata": {},
     "output_type": "execute_result"
    }
   ],
   "source": [
    "noisy_train = x_train + train_noise\n",
    "noisy_train"
   ]
  },
  {
   "cell_type": "code",
   "execution_count": 10,
   "metadata": {},
   "outputs": [
    {
     "data": {
      "text/plain": [
       "<matplotlib.image.AxesImage at 0x208f8855bb0>"
      ]
     },
     "execution_count": 10,
     "metadata": {},
     "output_type": "execute_result"
    },
    {
     "data": {
      "image/png": "[encoded data removed]",
      "text/plain": [
       "<Figure size 640x480 with 1 Axes>"
      ]
     },
     "metadata": {},
     "output_type": "display_data"
    }
   ],
   "source": [
    "plt.imshow(noisy_train[78].reshape(28,28))"
   ]
  },
  {
   "cell_type": "code",
   "execution_count": 11,
   "metadata": {},
   "outputs": [
    {
     "data": {
      "text/plain": [
       "<matplotlib.image.AxesImage at 0x208f8889550>"
      ]
     },
     "execution_count": 11,
     "metadata": {},
     "output_type": "execute_result"
    },
    {
     "data": {
      "image/png": "[encoded data removed]",
      "text/plain": [
       "<Figure size 640x480 with 1 Axes>"
      ]
     },
     "metadata": {},
     "output_type": "display_data"
    }
   ],
   "source": [
    "# try another image to compare without and with noise\n",
    "plt.imshow(x_train[2].reshape(28,28))"
   ]
  },
  {
   "cell_type": "code",
   "execution_count": 12,
   "metadata": {},
   "outputs": [
    {
     "data": {
      "text/plain": [
       "<matplotlib.image.AxesImage at 0x208f88ed580>"
      ]
     },
     "execution_count": 12,
     "metadata": {},
     "output_type": "execute_result"
    },
    {
     "data": {
      "image/png": "[encoded data removed]",
      "text/plain": [
       "<Figure size 640x480 with 1 Axes>"
      ]
     },
     "metadata": {},
     "output_type": "display_data"
    }
   ],
   "source": [
    "plt.imshow(noisy_train[2].reshape(28,28)) "
   ]
  },
  {
   "cell_type": "code",
   "execution_count": 13,
   "metadata": {},
   "outputs": [
    {
     "data": {
      "text/plain": [
       "<matplotlib.image.AxesImage at 0x208f8950490>"
      ]
     },
     "execution_count": 13,
     "metadata": {},
     "output_type": "execute_result"
    },
    {
     "data": {
      "image/png": "[encoded data removed]",
      "text/plain": [
       "<Figure size 640x480 with 1 Axes>"
      ]
     },
     "metadata": {},
     "output_type": "display_data"
    }
   ],
   "source": [
    "# try one more\n",
    "plt.imshow(x_train[25].reshape(28,28))"
   ]
  },
  {
   "cell_type": "code",
   "execution_count": 14,
   "metadata": {},
   "outputs": [
    {
     "data": {
      "text/plain": [
       "<matplotlib.image.AxesImage at 0x208f89f3400>"
      ]
     },
     "execution_count": 14,
     "metadata": {},
     "output_type": "execute_result"
    },
    {
     "data": {
      "image/png": "[encoded data removed]",
      "text/plain": [
       "<Figure size 640x480 with 1 Axes>"
      ]
     },
     "metadata": {},
     "output_type": "display_data"
    }
   ],
   "source": [
    "plt.imshow(noisy_train[25].reshape(28,28)) # noise looks different across several images"
   ]
  },
  {
   "cell_type": "code",
   "execution_count": 15,
   "metadata": {},
   "outputs": [
    {
     "data": {
      "text/plain": [
       "array([[ 0.02300626,  0.07715011, -0.2989425 , ...,  0.27787047,\n",
       "         0.00616911,  0.34160362],\n",
       "       [ 0.26087733,  0.26885765,  0.23135801, ..., -0.27623823,\n",
       "        -0.01246473,  0.5440109 ],\n",
       "       [-0.36873861, -0.1800128 ,  0.05658212, ...,  0.15990073,\n",
       "         0.12670789,  0.36669652],\n",
       "       ...,\n",
       "       [ 0.1035583 ,  0.12869202,  0.07773078, ..., -0.37332001,\n",
       "         0.0784483 ,  0.19068959],\n",
       "       [-0.37505328, -0.0163447 ,  0.3807691 , ...,  0.11680184,\n",
       "         0.21901315, -0.00744946],\n",
       "       [-0.18394562, -0.09016035,  0.10775793, ...,  0.09249852,\n",
       "         0.14714264, -0.06206457]])"
      ]
     },
     "execution_count": 15,
     "metadata": {},
     "output_type": "execute_result"
    }
   ],
   "source": [
    "# create test noise\n",
    "test_noise = np.random.normal(loc = 0, scale = .2, size = (10000, 784))\n",
    "\n",
    "test_noise"
   ]
  },
  {
   "cell_type": "code",
   "execution_count": 16,
   "metadata": {},
   "outputs": [
    {
     "data": {
      "text/plain": [
       "1.0642066740379001"
      ]
     },
     "execution_count": 16,
     "metadata": {},
     "output_type": "execute_result"
    }
   ],
   "source": [
    "np.max(test_noise) # close to 1"
   ]
  },
  {
   "cell_type": "code",
   "execution_count": 17,
   "metadata": {},
   "outputs": [],
   "source": [
    "noisy_test = x_test + test_noise"
   ]
  },
  {
   "cell_type": "code",
   "execution_count": 18,
   "metadata": {},
   "outputs": [
    {
     "name": "stdout",
     "output_type": "stream",
     "text": [
      "Model: \"sequential\"\n",
      "_________________________________________________________________\n",
      " Layer (type)                Output Shape              Param #   \n",
      "=================================================================\n",
      " dense (Dense)               (None, 512)               401920    \n",
      "                                                                 \n",
      " dropout (Dropout)           (None, 512)               0         \n",
      "                                                                 \n",
      " dense_1 (Dense)             (None, 512)               262656    \n",
      "                                                                 \n",
      " dropout_1 (Dropout)         (None, 512)               0         \n",
      "                                                                 \n",
      " dense_2 (Dense)             (None, 10)                5130      \n",
      "                                                                 \n",
      "=================================================================\n",
      "Total params: 669706 (2.55 MB)\n",
      "Trainable params: 669706 (2.55 MB)\n",
      "Non-trainable params: 0 (0.00 Byte)\n",
      "_________________________________________________________________\n",
      "Epoch 1/20\n",
      "469/469 [==============================] - 6s 11ms/step - loss: 0.2510 - accuracy: 0.9250 - val_loss: 0.1031 - val_accuracy: 0.9688\n",
      "Epoch 2/20\n",
      "469/469 [==============================] - 4s 9ms/step - loss: 0.1020 - accuracy: 0.9675 - val_loss: 0.0781 - val_accuracy: 0.9744\n",
      "Epoch 3/20\n",
      "469/469 [==============================] - 4s 9ms/step - loss: 0.0718 - accuracy: 0.9765 - val_loss: 0.0706 - val_accuracy: 0.9785\n",
      "Epoch 4/20\n",
      "469/469 [==============================] - 4s 9ms/step - loss: 0.0569 - accuracy: 0.9819 - val_loss: 0.0643 - val_accuracy: 0.9798\n",
      "Epoch 5/20\n",
      "469/469 [==============================] - 4s 9ms/step - loss: 0.0451 - accuracy: 0.9849 - val_loss: 0.0703 - val_accuracy: 0.9781\n",
      "Epoch 6/20\n",
      "469/469 [==============================] - 5s 10ms/step - loss: 0.0375 - accuracy: 0.9876 - val_loss: 0.0663 - val_accuracy: 0.9804\n",
      "Epoch 7/20\n",
      "469/469 [==============================] - 6s 12ms/step - loss: 0.0355 - accuracy: 0.9884 - val_loss: 0.0701 - val_accuracy: 0.9794\n",
      "Epoch 8/20\n",
      "469/469 [==============================] - 5s 11ms/step - loss: 0.0293 - accuracy: 0.9899 - val_loss: 0.0674 - val_accuracy: 0.9822\n",
      "Epoch 9/20\n",
      "469/469 [==============================] - 6s 12ms/step - loss: 0.0291 - accuracy: 0.9900 - val_loss: 0.0618 - val_accuracy: 0.9832\n",
      "Epoch 10/20\n",
      "469/469 [==============================] - 7s 14ms/step - loss: 0.0255 - accuracy: 0.9916 - val_loss: 0.0657 - val_accuracy: 0.9818\n",
      "Epoch 11/20\n",
      "469/469 [==============================] - 7s 15ms/step - loss: 0.0225 - accuracy: 0.9918 - val_loss: 0.0683 - val_accuracy: 0.9829\n",
      "Epoch 12/20\n",
      "469/469 [==============================] - 6s 13ms/step - loss: 0.0216 - accuracy: 0.9929 - val_loss: 0.0662 - val_accuracy: 0.9844\n",
      "Epoch 13/20\n",
      "469/469 [==============================] - 6s 13ms/step - loss: 0.0208 - accuracy: 0.9932 - val_loss: 0.0734 - val_accuracy: 0.9805\n",
      "Epoch 14/20\n",
      "469/469 [==============================] - 6s 14ms/step - loss: 0.0195 - accuracy: 0.9936 - val_loss: 0.0756 - val_accuracy: 0.9814\n",
      "Epoch 15/20\n",
      "469/469 [==============================] - 6s 13ms/step - loss: 0.0182 - accuracy: 0.9939 - val_loss: 0.0751 - val_accuracy: 0.9825\n",
      "Epoch 16/20\n",
      "469/469 [==============================] - 5s 10ms/step - loss: 0.0173 - accuracy: 0.9942 - val_loss: 0.0759 - val_accuracy: 0.9832\n",
      "Epoch 17/20\n",
      "469/469 [==============================] - 5s 10ms/step - loss: 0.0169 - accuracy: 0.9943 - val_loss: 0.0779 - val_accuracy: 0.9838\n",
      "Epoch 18/20\n",
      "469/469 [==============================] - 5s 10ms/step - loss: 0.0163 - accuracy: 0.9944 - val_loss: 0.0732 - val_accuracy: 0.9849\n",
      "Epoch 19/20\n",
      "469/469 [==============================] - 5s 10ms/step - loss: 0.0159 - accuracy: 0.9945 - val_loss: 0.0685 - val_accuracy: 0.9850\n",
      "Epoch 20/20\n",
      "469/469 [==============================] - 5s 11ms/step - loss: 0.0146 - accuracy: 0.9951 - val_loss: 0.0849 - val_accuracy: 0.9819\n",
      "Test loss: 0.08492766320705414\n",
      "Test accuracy: 0.9818999767303467\n"
     ]
    }
   ],
   "source": [
    "# without noise\n",
    "batch_size = 128\n",
    "num_classes = 10\n",
    "epochs = 20\n",
    "\n",
    "\n",
    "# convert class vectors to binary class matrices\n",
    "y_train = keras.utils.to_categorical(y_train, num_classes)\n",
    "y_test = keras.utils.to_categorical(y_test, num_classes)\n",
    "\n",
    "model = Sequential()\n",
    "model.add(Dense(512, activation='relu', input_shape=(784,)))\n",
    "model.add(Dropout(0.2))\n",
    "model.add(Dense(512, activation='relu'))\n",
    "model.add(Dropout(0.2))\n",
    "model.add(Dense(10, activation='softmax'))\n",
    "\n",
    "model.summary()\n",
    "\n",
    "model.compile(loss='categorical_crossentropy',\n",
    "              optimizer=\"adam\",\n",
    "              metrics=['accuracy'])\n",
    "\n",
    "history = model.fit(x_train, y_train,\n",
    "                    batch_size=batch_size,\n",
    "                    epochs=epochs,\n",
    "                    verbose=1,\n",
    "                    validation_data=(x_test, y_test))\n",
    "score = model.evaluate(x_test, y_test, verbose=0)\n",
    "print('Test loss:', score[0])\n",
    "print('Test accuracy:', score[1])"
   ]
  },
  {
   "cell_type": "code",
   "execution_count": 19,
   "metadata": {},
   "outputs": [
    {
     "name": "stdout",
     "output_type": "stream",
     "text": [
      "Model: \"sequential_1\"\n",
      "_________________________________________________________________\n",
      " Layer (type)                Output Shape              Param #   \n",
      "=================================================================\n",
      " dense_3 (Dense)             (None, 512)               401920    \n",
      "                                                                 \n",
      " dropout_2 (Dropout)         (None, 512)               0         \n",
      "                                                                 \n",
      " dense_4 (Dense)             (None, 512)               262656    \n",
      "                                                                 \n",
      " dropout_3 (Dropout)         (None, 512)               0         \n",
      "                                                                 \n",
      " dense_5 (Dense)             (None, 10)                5130      \n",
      "                                                                 \n",
      "=================================================================\n",
      "Total params: 669706 (2.55 MB)\n",
      "Trainable params: 669706 (2.55 MB)\n",
      "Non-trainable params: 0 (0.00 Byte)\n",
      "_________________________________________________________________\n",
      "Epoch 1/20\n",
      "469/469 [==============================] - 5s 10ms/step - loss: 0.3129 - accuracy: 0.9031 - val_loss: 0.1489 - val_accuracy: 0.9546\n",
      "Epoch 2/20\n",
      "469/469 [==============================] - 5s 10ms/step - loss: 0.1145 - accuracy: 0.9649 - val_loss: 0.1158 - val_accuracy: 0.9639\n",
      "Epoch 3/20\n",
      "469/469 [==============================] - 5s 10ms/step - loss: 0.0632 - accuracy: 0.9806 - val_loss: 0.1145 - val_accuracy: 0.9630\n",
      "Epoch 4/20\n",
      "469/469 [==============================] - 5s 10ms/step - loss: 0.0411 - accuracy: 0.9869 - val_loss: 0.1197 - val_accuracy: 0.9672\n",
      "Epoch 5/20\n",
      "469/469 [==============================] - 5s 10ms/step - loss: 0.0330 - accuracy: 0.9891 - val_loss: 0.1195 - val_accuracy: 0.9667\n",
      "Epoch 6/20\n",
      "469/469 [==============================] - 5s 10ms/step - loss: 0.0227 - accuracy: 0.9926 - val_loss: 0.1248 - val_accuracy: 0.9685\n",
      "Epoch 7/20\n",
      "469/469 [==============================] - 5s 10ms/step - loss: 0.0219 - accuracy: 0.9926 - val_loss: 0.1293 - val_accuracy: 0.9678\n",
      "Epoch 8/20\n",
      "469/469 [==============================] - 5s 10ms/step - loss: 0.0222 - accuracy: 0.9924 - val_loss: 0.1351 - val_accuracy: 0.9716\n",
      "Epoch 9/20\n",
      "469/469 [==============================] - 5s 10ms/step - loss: 0.0178 - accuracy: 0.9941 - val_loss: 0.1471 - val_accuracy: 0.9687\n",
      "Epoch 10/20\n",
      "469/469 [==============================] - 5s 10ms/step - loss: 0.0187 - accuracy: 0.9934 - val_loss: 0.1356 - val_accuracy: 0.9701\n",
      "Epoch 11/20\n",
      "469/469 [==============================] - 5s 10ms/step - loss: 0.0162 - accuracy: 0.9945 - val_loss: 0.1653 - val_accuracy: 0.9687\n",
      "Epoch 12/20\n",
      "469/469 [==============================] - 5s 10ms/step - loss: 0.0169 - accuracy: 0.9944 - val_loss: 0.1599 - val_accuracy: 0.9686\n",
      "Epoch 13/20\n",
      "469/469 [==============================] - 5s 10ms/step - loss: 0.0160 - accuracy: 0.9947 - val_loss: 0.1484 - val_accuracy: 0.9719\n",
      "Epoch 14/20\n",
      "469/469 [==============================] - 5s 10ms/step - loss: 0.0164 - accuracy: 0.9941 - val_loss: 0.1640 - val_accuracy: 0.9680\n",
      "Epoch 15/20\n",
      "469/469 [==============================] - 5s 10ms/step - loss: 0.0164 - accuracy: 0.9946 - val_loss: 0.1798 - val_accuracy: 0.9655\n",
      "Epoch 16/20\n",
      "469/469 [==============================] - 5s 10ms/step - loss: 0.0124 - accuracy: 0.9959 - val_loss: 0.1759 - val_accuracy: 0.9689\n",
      "Epoch 17/20\n",
      "469/469 [==============================] - 5s 10ms/step - loss: 0.0135 - accuracy: 0.9959 - val_loss: 0.1730 - val_accuracy: 0.9714\n",
      "Epoch 18/20\n",
      "469/469 [==============================] - 5s 11ms/step - loss: 0.0129 - accuracy: 0.9960 - val_loss: 0.1620 - val_accuracy: 0.9703\n",
      "Epoch 19/20\n",
      "469/469 [==============================] - 5s 11ms/step - loss: 0.0127 - accuracy: 0.9956 - val_loss: 0.1762 - val_accuracy: 0.9673\n",
      "Epoch 20/20\n",
      "469/469 [==============================] - 7s 14ms/step - loss: 0.0133 - accuracy: 0.9955 - val_loss: 0.1747 - val_accuracy: 0.9716\n",
      "Test loss: 0.17471827566623688\n",
      "Test accuracy: 0.9715999960899353\n"
     ]
    }
   ],
   "source": [
    "# the data, shuffled and split between train and test sets\n",
    "(x_train, y_train), (x_test, y_test) = mnist.load_data()\n",
    "\n",
    "\n",
    "# with noise\n",
    "batch_size = 128\n",
    "num_classes = 10\n",
    "epochs = 20\n",
    "\n",
    "\n",
    "# convert class vectors to binary class matrices\n",
    "y_train = keras.utils.to_categorical(y_train, num_classes)\n",
    "y_test = keras.utils.to_categorical(y_test, num_classes)\n",
    "\n",
    "model = Sequential()\n",
    "model.add(Dense(512, activation='relu', input_shape=(784,)))\n",
    "model.add(Dropout(0.2))\n",
    "model.add(Dense(512, activation='relu'))\n",
    "model.add(Dropout(0.2))\n",
    "model.add(Dense(10, activation='softmax'))\n",
    "\n",
    "model.summary()\n",
    "\n",
    "model.compile(loss='categorical_crossentropy',\n",
    "              optimizer=\"adam\",\n",
    "              metrics=['accuracy'])\n",
    "\n",
    "history = model.fit(noisy_train, y_train,\n",
    "                    batch_size=batch_size,\n",
    "                    epochs=epochs,\n",
    "                    verbose=1,\n",
    "                    validation_data=(noisy_test, y_test))\n",
    "score = model.evaluate(noisy_test, y_test, verbose=0)\n",
    "print('Test loss:', score[0])\n",
    "print('Test accuracy:', score[1])\n"
   ]
  },
  {
   "cell_type": "markdown",
   "metadata": {},
   "source": [
    "Adding noise results in higher test loss and lower test accuracy."
   ]
  },
  {
   "cell_type": "code",
   "execution_count": null,
   "metadata": {},
   "outputs": [],
   "source": [
    "# Vary the amount of noise by changing the `scale` parameter in `np.random.normal` by a factor. \n",
    "# Use `.1, .5, 1.0, 2.0, 4.0` for the `scale` \n",
    "# and keep track of the `accuracy` for training and validation and plot these results."
   ]
  },
  {
   "cell_type": "code",
   "execution_count": 27,
   "metadata": {},
   "outputs": [
    {
     "name": "stdout",
     "output_type": "stream",
     "text": [
      "Model: \"sequential_4\"\n",
      "_________________________________________________________________\n",
      " Layer (type)                Output Shape              Param #   \n",
      "=================================================================\n",
      " dense_6 (Dense)             (None, 512)               401920    \n",
      "                                                                 \n",
      " dropout_4 (Dropout)         (None, 512)               0         \n",
      "                                                                 \n",
      " dense_7 (Dense)             (None, 512)               262656    \n",
      "                                                                 \n",
      " dropout_5 (Dropout)         (None, 512)               0         \n",
      "                                                                 \n",
      " dense_8 (Dense)             (None, 10)                5130      \n",
      "                                                                 \n",
      "=================================================================\n",
      "Total params: 669706 (2.55 MB)\n",
      "Trainable params: 669706 (2.55 MB)\n",
      "Non-trainable params: 0 (0.00 Byte)\n",
      "_________________________________________________________________\n",
      "Epoch 1/20\n",
      "469/469 [==============================] - 5s 9ms/step - loss: 0.2655 - accuracy: 0.9190 - val_loss: 0.1187 - val_accuracy: 0.9648\n",
      "Epoch 2/20\n",
      "469/469 [==============================] - 4s 9ms/step - loss: 0.0996 - accuracy: 0.9697 - val_loss: 0.0883 - val_accuracy: 0.9717\n",
      "Epoch 3/20\n",
      "469/469 [==============================] - 4s 9ms/step - loss: 0.0607 - accuracy: 0.9810 - val_loss: 0.0833 - val_accuracy: 0.9741\n",
      "Epoch 4/20\n",
      "469/469 [==============================] - 5s 10ms/step - loss: 0.0427 - accuracy: 0.9859 - val_loss: 0.0933 - val_accuracy: 0.9723\n",
      "Epoch 5/20\n",
      "469/469 [==============================] - 4s 9ms/step - loss: 0.0319 - accuracy: 0.9895 - val_loss: 0.0789 - val_accuracy: 0.9788\n",
      "Epoch 6/20\n",
      "469/469 [==============================] - 5s 10ms/step - loss: 0.0266 - accuracy: 0.9911 - val_loss: 0.1023 - val_accuracy: 0.9755\n",
      "Epoch 7/20\n",
      "469/469 [==============================] - 4s 9ms/step - loss: 0.0239 - accuracy: 0.9918 - val_loss: 0.0850 - val_accuracy: 0.9788\n",
      "Epoch 8/20\n",
      "469/469 [==============================] - 5s 10ms/step - loss: 0.0210 - accuracy: 0.9930 - val_loss: 0.1160 - val_accuracy: 0.9739\n",
      "Epoch 9/20\n",
      "469/469 [==============================] - 4s 9ms/step - loss: 0.0186 - accuracy: 0.9937 - val_loss: 0.1077 - val_accuracy: 0.9738\n",
      "Epoch 10/20\n",
      "469/469 [==============================] - 5s 10ms/step - loss: 0.0189 - accuracy: 0.9939 - val_loss: 0.1020 - val_accuracy: 0.9755\n",
      "Epoch 11/20\n",
      "469/469 [==============================] - 5s 10ms/step - loss: 0.0150 - accuracy: 0.9946 - val_loss: 0.1093 - val_accuracy: 0.9769\n",
      "Epoch 12/20\n",
      "469/469 [==============================] - 4s 9ms/step - loss: 0.0131 - accuracy: 0.9950 - val_loss: 0.1247 - val_accuracy: 0.9761\n",
      "Epoch 13/20\n",
      "469/469 [==============================] - 5s 11ms/step - loss: 0.0172 - accuracy: 0.9943 - val_loss: 0.1077 - val_accuracy: 0.9775\n",
      "Epoch 14/20\n",
      "469/469 [==============================] - 4s 10ms/step - loss: 0.0137 - accuracy: 0.9952 - val_loss: 0.1090 - val_accuracy: 0.9773\n",
      "Epoch 15/20\n",
      "469/469 [==============================] - 4s 9ms/step - loss: 0.0163 - accuracy: 0.9947 - val_loss: 0.1057 - val_accuracy: 0.9789\n",
      "Epoch 16/20\n",
      "469/469 [==============================] - 5s 10ms/step - loss: 0.0124 - accuracy: 0.9960 - val_loss: 0.1213 - val_accuracy: 0.9769\n",
      "Epoch 17/20\n",
      "469/469 [==============================] - 5s 10ms/step - loss: 0.0130 - accuracy: 0.9959 - val_loss: 0.1032 - val_accuracy: 0.9790\n",
      "Epoch 18/20\n",
      "469/469 [==============================] - 5s 10ms/step - loss: 0.0115 - accuracy: 0.9965 - val_loss: 0.1139 - val_accuracy: 0.9794\n",
      "Epoch 19/20\n",
      "469/469 [==============================] - 5s 10ms/step - loss: 0.0111 - accuracy: 0.9965 - val_loss: 0.1109 - val_accuracy: 0.9785\n",
      "Epoch 20/20\n",
      "469/469 [==============================] - 5s 10ms/step - loss: 0.0132 - accuracy: 0.9956 - val_loss: 0.1199 - val_accuracy: 0.9779\n",
      "Test loss: 0.11990390717983246\n",
      "Test accuracy: 0.9779000282287598\n",
      "Model: \"sequential_5\"\n",
      "_________________________________________________________________\n",
      " Layer (type)                Output Shape              Param #   \n",
      "=================================================================\n",
      " dense_9 (Dense)             (None, 512)               401920    \n",
      "                                                                 \n",
      " dropout_6 (Dropout)         (None, 512)               0         \n",
      "                                                                 \n",
      " dense_10 (Dense)            (None, 512)               262656    \n",
      "                                                                 \n",
      " dropout_7 (Dropout)         (None, 512)               0         \n",
      "                                                                 \n",
      " dense_11 (Dense)            (None, 10)                5130      \n",
      "                                                                 \n",
      "=================================================================\n",
      "Total params: 669706 (2.55 MB)\n",
      "Trainable params: 669706 (2.55 MB)\n",
      "Non-trainable params: 0 (0.00 Byte)\n",
      "_________________________________________________________________\n",
      "Epoch 1/20\n",
      "469/469 [==============================] - 5s 10ms/step - loss: 0.5525 - accuracy: 0.8209 - val_loss: 0.3130 - val_accuracy: 0.8991\n",
      "Epoch 2/20\n",
      "469/469 [==============================] - 5s 10ms/step - loss: 0.2415 - accuracy: 0.9220 - val_loss: 0.2768 - val_accuracy: 0.9091\n",
      "Epoch 3/20\n",
      "469/469 [==============================] - 5s 10ms/step - loss: 0.1313 - accuracy: 0.9565 - val_loss: 0.2613 - val_accuracy: 0.9196\n",
      "Epoch 4/20\n",
      "469/469 [==============================] - 5s 10ms/step - loss: 0.0742 - accuracy: 0.9755 - val_loss: 0.2924 - val_accuracy: 0.9184\n",
      "Epoch 5/20\n",
      "469/469 [==============================] - 5s 10ms/step - loss: 0.0532 - accuracy: 0.9817 - val_loss: 0.3281 - val_accuracy: 0.9193\n",
      "Epoch 6/20\n",
      "469/469 [==============================] - 5s 10ms/step - loss: 0.0466 - accuracy: 0.9838 - val_loss: 0.3565 - val_accuracy: 0.9149\n",
      "Epoch 7/20\n",
      "469/469 [==============================] - 5s 10ms/step - loss: 0.0391 - accuracy: 0.9870 - val_loss: 0.3777 - val_accuracy: 0.9184\n",
      "Epoch 8/20\n",
      "469/469 [==============================] - 5s 10ms/step - loss: 0.0393 - accuracy: 0.9868 - val_loss: 0.3943 - val_accuracy: 0.9163\n",
      "Epoch 9/20\n",
      "469/469 [==============================] - 5s 10ms/step - loss: 0.0349 - accuracy: 0.9877 - val_loss: 0.4002 - val_accuracy: 0.9200\n",
      "Epoch 10/20\n",
      "469/469 [==============================] - 5s 11ms/step - loss: 0.0312 - accuracy: 0.9897 - val_loss: 0.3978 - val_accuracy: 0.9200\n",
      "Epoch 11/20\n",
      "469/469 [==============================] - 5s 11ms/step - loss: 0.0291 - accuracy: 0.9901 - val_loss: 0.4299 - val_accuracy: 0.9186\n",
      "Epoch 12/20\n",
      "469/469 [==============================] - 5s 10ms/step - loss: 0.0307 - accuracy: 0.9894 - val_loss: 0.4418 - val_accuracy: 0.9215\n",
      "Epoch 13/20\n",
      "469/469 [==============================] - 4s 9ms/step - loss: 0.0275 - accuracy: 0.9909 - val_loss: 0.4557 - val_accuracy: 0.9198\n",
      "Epoch 14/20\n",
      "469/469 [==============================] - 4s 9ms/step - loss: 0.0262 - accuracy: 0.9913 - val_loss: 0.4594 - val_accuracy: 0.9207\n",
      "Epoch 15/20\n",
      "469/469 [==============================] - 5s 10ms/step - loss: 0.0233 - accuracy: 0.9922 - val_loss: 0.4898 - val_accuracy: 0.9173\n",
      "Epoch 16/20\n",
      "469/469 [==============================] - 5s 10ms/step - loss: 0.0234 - accuracy: 0.9922 - val_loss: 0.4910 - val_accuracy: 0.9222\n",
      "Epoch 17/20\n",
      "469/469 [==============================] - 5s 11ms/step - loss: 0.0236 - accuracy: 0.9922 - val_loss: 0.4927 - val_accuracy: 0.9212\n",
      "Epoch 18/20\n",
      "469/469 [==============================] - 4s 10ms/step - loss: 0.0243 - accuracy: 0.9919 - val_loss: 0.4839 - val_accuracy: 0.9205\n",
      "Epoch 19/20\n",
      "469/469 [==============================] - 5s 10ms/step - loss: 0.0197 - accuracy: 0.9933 - val_loss: 0.4885 - val_accuracy: 0.9194\n",
      "Epoch 20/20\n",
      "469/469 [==============================] - 5s 10ms/step - loss: 0.0255 - accuracy: 0.9927 - val_loss: 0.4790 - val_accuracy: 0.9190\n",
      "Test loss: 0.4790455102920532\n",
      "Test accuracy: 0.9190000295639038\n",
      "Model: \"sequential_6\"\n",
      "_________________________________________________________________\n",
      " Layer (type)                Output Shape              Param #   \n"
     ]
    },
    {
     "name": "stdout",
     "output_type": "stream",
     "text": [
      "=================================================================\n",
      " dense_12 (Dense)            (None, 512)               401920    \n",
      "                                                                 \n",
      " dropout_8 (Dropout)         (None, 512)               0         \n",
      "                                                                 \n",
      " dense_13 (Dense)            (None, 512)               262656    \n",
      "                                                                 \n",
      " dropout_9 (Dropout)         (None, 512)               0         \n",
      "                                                                 \n",
      " dense_14 (Dense)            (None, 10)                5130      \n",
      "                                                                 \n",
      "=================================================================\n",
      "Total params: 669706 (2.55 MB)\n",
      "Trainable params: 669706 (2.55 MB)\n",
      "Non-trainable params: 0 (0.00 Byte)\n",
      "_________________________________________________________________\n",
      "Epoch 1/20\n",
      "469/469 [==============================] - 6s 11ms/step - loss: 1.0777 - accuracy: 0.6320 - val_loss: 0.7941 - val_accuracy: 0.7338\n",
      "Epoch 2/20\n",
      "469/469 [==============================] - 5s 10ms/step - loss: 0.6811 - accuracy: 0.7699 - val_loss: 0.7171 - val_accuracy: 0.7612\n",
      "Epoch 3/20\n",
      "469/469 [==============================] - 4s 9ms/step - loss: 0.4819 - accuracy: 0.8371 - val_loss: 0.7225 - val_accuracy: 0.7681\n",
      "Epoch 4/20\n",
      "469/469 [==============================] - 4s 9ms/step - loss: 0.3374 - accuracy: 0.8849 - val_loss: 0.7682 - val_accuracy: 0.7633\n",
      "Epoch 5/20\n",
      "469/469 [==============================] - 4s 9ms/step - loss: 0.2343 - accuracy: 0.9205 - val_loss: 0.8685 - val_accuracy: 0.7661\n",
      "Epoch 6/20\n",
      "469/469 [==============================] - 4s 9ms/step - loss: 0.1792 - accuracy: 0.9389 - val_loss: 0.9626 - val_accuracy: 0.7560\n",
      "Epoch 7/20\n",
      "469/469 [==============================] - 5s 11ms/step - loss: 0.1453 - accuracy: 0.9500 - val_loss: 1.0430 - val_accuracy: 0.7541\n",
      "Epoch 8/20\n",
      "469/469 [==============================] - 6s 14ms/step - loss: 0.1203 - accuracy: 0.9581 - val_loss: 1.1116 - val_accuracy: 0.7636\n",
      "Epoch 9/20\n",
      "469/469 [==============================] - 6s 13ms/step - loss: 0.1142 - accuracy: 0.9603 - val_loss: 1.1500 - val_accuracy: 0.7561\n",
      "Epoch 10/20\n",
      "469/469 [==============================] - 6s 12ms/step - loss: 0.1053 - accuracy: 0.9648 - val_loss: 1.1991 - val_accuracy: 0.7539\n",
      "Epoch 11/20\n",
      "469/469 [==============================] - 5s 11ms/step - loss: 0.0993 - accuracy: 0.9656 - val_loss: 1.2318 - val_accuracy: 0.7600\n",
      "Epoch 12/20\n",
      "469/469 [==============================] - 5s 11ms/step - loss: 0.0865 - accuracy: 0.9714 - val_loss: 1.2754 - val_accuracy: 0.7597\n",
      "Epoch 13/20\n",
      "469/469 [==============================] - 5s 11ms/step - loss: 0.0864 - accuracy: 0.9698 - val_loss: 1.3265 - val_accuracy: 0.7569\n",
      "Epoch 14/20\n",
      "469/469 [==============================] - 5s 10ms/step - loss: 0.0843 - accuracy: 0.9717 - val_loss: 1.3595 - val_accuracy: 0.7596\n",
      "Epoch 15/20\n",
      "469/469 [==============================] - 5s 10ms/step - loss: 0.0802 - accuracy: 0.9736 - val_loss: 1.4009 - val_accuracy: 0.7586\n",
      "Epoch 16/20\n",
      "469/469 [==============================] - 5s 11ms/step - loss: 0.0800 - accuracy: 0.9730 - val_loss: 1.3815 - val_accuracy: 0.7586\n",
      "Epoch 17/20\n",
      "469/469 [==============================] - 4s 9ms/step - loss: 0.0760 - accuracy: 0.9755 - val_loss: 1.4150 - val_accuracy: 0.7572\n",
      "Epoch 18/20\n",
      "469/469 [==============================] - 5s 11ms/step - loss: 0.0765 - accuracy: 0.9759 - val_loss: 1.3928 - val_accuracy: 0.7570\n",
      "Epoch 19/20\n",
      "469/469 [==============================] - 7s 14ms/step - loss: 0.0688 - accuracy: 0.9770 - val_loss: 1.5194 - val_accuracy: 0.7573\n",
      "Epoch 20/20\n",
      "469/469 [==============================] - 5s 11ms/step - loss: 0.0685 - accuracy: 0.9769 - val_loss: 1.5387 - val_accuracy: 0.7540\n",
      "Test loss: 1.5387468338012695\n",
      "Test accuracy: 0.7540000081062317\n",
      "Model: \"sequential_7\"\n",
      "_________________________________________________________________\n",
      " Layer (type)                Output Shape              Param #   \n",
      "=================================================================\n",
      " dense_15 (Dense)            (None, 512)               401920    \n",
      "                                                                 \n",
      " dropout_10 (Dropout)        (None, 512)               0         \n",
      "                                                                 \n",
      " dense_16 (Dense)            (None, 512)               262656    \n",
      "                                                                 \n",
      " dropout_11 (Dropout)        (None, 512)               0         \n",
      "                                                                 \n",
      " dense_17 (Dense)            (None, 10)                5130      \n",
      "                                                                 \n",
      "=================================================================\n",
      "Total params: 669706 (2.55 MB)\n",
      "Trainable params: 669706 (2.55 MB)\n",
      "Non-trainable params: 0 (0.00 Byte)\n",
      "_________________________________________________________________\n",
      "Epoch 1/20\n",
      "469/469 [==============================] - 6s 12ms/step - loss: 1.8644 - accuracy: 0.3536 - val_loss: 1.5839 - val_accuracy: 0.4559\n",
      "Epoch 2/20\n",
      "469/469 [==============================] - 4s 9ms/step - loss: 1.4772 - accuracy: 0.4909 - val_loss: 1.5493 - val_accuracy: 0.4686\n",
      "Epoch 3/20\n",
      "469/469 [==============================] - 4s 9ms/step - loss: 1.2970 - accuracy: 0.5523 - val_loss: 1.5676 - val_accuracy: 0.4607\n",
      "Epoch 4/20\n",
      "469/469 [==============================] - 4s 9ms/step - loss: 1.1349 - accuracy: 0.6066 - val_loss: 1.6223 - val_accuracy: 0.4591\n",
      "Epoch 5/20\n",
      "469/469 [==============================] - 7s 14ms/step - loss: 0.9719 - accuracy: 0.6611 - val_loss: 1.6903 - val_accuracy: 0.4514\n",
      "Epoch 6/20\n",
      "469/469 [==============================] - 5s 11ms/step - loss: 0.8192 - accuracy: 0.7142 - val_loss: 1.7967 - val_accuracy: 0.4395\n",
      "Epoch 7/20\n",
      "469/469 [==============================] - 5s 11ms/step - loss: 0.6913 - accuracy: 0.7581 - val_loss: 1.9189 - val_accuracy: 0.4429\n",
      "Epoch 8/20\n",
      "469/469 [==============================] - 5s 10ms/step - loss: 0.5976 - accuracy: 0.7924 - val_loss: 1.9863 - val_accuracy: 0.4363\n",
      "Epoch 9/20\n",
      "469/469 [==============================] - 5s 10ms/step - loss: 0.5305 - accuracy: 0.8162 - val_loss: 2.1294 - val_accuracy: 0.4367\n",
      "Epoch 10/20\n",
      "469/469 [==============================] - 5s 10ms/step - loss: 0.4735 - accuracy: 0.8363 - val_loss: 2.2180 - val_accuracy: 0.4321\n",
      "Epoch 11/20\n",
      "469/469 [==============================] - 5s 12ms/step - loss: 0.4289 - accuracy: 0.8523 - val_loss: 2.3320 - val_accuracy: 0.4308\n",
      "Epoch 12/20\n",
      "469/469 [==============================] - 5s 11ms/step - loss: 0.3981 - accuracy: 0.8636 - val_loss: 2.4391 - val_accuracy: 0.4236\n",
      "Epoch 13/20\n",
      "469/469 [==============================] - 5s 11ms/step - loss: 0.3779 - accuracy: 0.8698 - val_loss: 2.4769 - val_accuracy: 0.4255\n",
      "Epoch 14/20\n",
      "469/469 [==============================] - 5s 11ms/step - loss: 0.3546 - accuracy: 0.8787 - val_loss: 2.5011 - val_accuracy: 0.4214\n",
      "Epoch 15/20\n",
      "469/469 [==============================] - 4s 9ms/step - loss: 0.3377 - accuracy: 0.8823 - val_loss: 2.6661 - val_accuracy: 0.4186\n",
      "Epoch 16/20\n",
      "469/469 [==============================] - 4s 9ms/step - loss: 0.3257 - accuracy: 0.8887 - val_loss: 2.7002 - val_accuracy: 0.4221\n",
      "Epoch 17/20\n",
      "469/469 [==============================] - 5s 11ms/step - loss: 0.3079 - accuracy: 0.8946 - val_loss: 2.7427 - val_accuracy: 0.4194\n",
      "Epoch 18/20\n",
      "469/469 [==============================] - 5s 11ms/step - loss: 0.2985 - accuracy: 0.8975 - val_loss: 2.7928 - val_accuracy: 0.4269\n",
      "Epoch 19/20\n",
      "469/469 [==============================] - 6s 12ms/step - loss: 0.2872 - accuracy: 0.9012 - val_loss: 2.7679 - val_accuracy: 0.4144\n",
      "Epoch 20/20\n",
      "469/469 [==============================] - 5s 11ms/step - loss: 0.2826 - accuracy: 0.9042 - val_loss: 2.8354 - val_accuracy: 0.4186\n",
      "Test loss: 2.8354389667510986\n",
      "Test accuracy: 0.4185999929904938\n",
      "Model: \"sequential_8\"\n",
      "_________________________________________________________________\n",
      " Layer (type)                Output Shape              Param #   \n",
      "=================================================================\n",
      " dense_18 (Dense)            (None, 512)               401920    \n"
     ]
    },
    {
     "name": "stdout",
     "output_type": "stream",
     "text": [
      "                                                                 \n",
      " dropout_12 (Dropout)        (None, 512)               0         \n",
      "                                                                 \n",
      " dense_19 (Dense)            (None, 512)               262656    \n",
      "                                                                 \n",
      " dropout_13 (Dropout)        (None, 512)               0         \n",
      "                                                                 \n",
      " dense_20 (Dense)            (None, 10)                5130      \n",
      "                                                                 \n",
      "=================================================================\n",
      "Total params: 669706 (2.55 MB)\n",
      "Trainable params: 669706 (2.55 MB)\n",
      "Non-trainable params: 0 (0.00 Byte)\n",
      "_________________________________________________________________\n",
      "Epoch 1/20\n",
      "469/469 [==============================] - 5s 9ms/step - loss: 2.4173 - accuracy: 0.1408 - val_loss: 2.1886 - val_accuracy: 0.2015\n",
      "Epoch 2/20\n",
      "469/469 [==============================] - 5s 10ms/step - loss: 2.1244 - accuracy: 0.2328 - val_loss: 2.1350 - val_accuracy: 0.2306\n",
      "Epoch 3/20\n",
      "469/469 [==============================] - 5s 10ms/step - loss: 2.0019 - accuracy: 0.2871 - val_loss: 2.1328 - val_accuracy: 0.2277\n",
      "Epoch 4/20\n",
      "469/469 [==============================] - 5s 10ms/step - loss: 1.8950 - accuracy: 0.3301 - val_loss: 2.1445 - val_accuracy: 0.2328\n",
      "Epoch 5/20\n",
      "469/469 [==============================] - 5s 10ms/step - loss: 1.7844 - accuracy: 0.3740 - val_loss: 2.1873 - val_accuracy: 0.2194\n",
      "Epoch 6/20\n",
      "469/469 [==============================] - 5s 10ms/step - loss: 1.6755 - accuracy: 0.4104 - val_loss: 2.2208 - val_accuracy: 0.2212\n",
      "Epoch 7/20\n",
      "469/469 [==============================] - 5s 10ms/step - loss: 1.5624 - accuracy: 0.4563 - val_loss: 2.2756 - val_accuracy: 0.2172\n",
      "Epoch 8/20\n",
      "469/469 [==============================] - 6s 13ms/step - loss: 1.4539 - accuracy: 0.4929 - val_loss: 2.3042 - val_accuracy: 0.2128\n",
      "Epoch 9/20\n",
      "469/469 [==============================] - 5s 10ms/step - loss: 1.3565 - accuracy: 0.5299 - val_loss: 2.3818 - val_accuracy: 0.2073\n",
      "Epoch 10/20\n",
      "469/469 [==============================] - 4s 10ms/step - loss: 1.2712 - accuracy: 0.5586 - val_loss: 2.4448 - val_accuracy: 0.1996\n",
      "Epoch 11/20\n",
      "469/469 [==============================] - 5s 10ms/step - loss: 1.1896 - accuracy: 0.5892 - val_loss: 2.4980 - val_accuracy: 0.2083\n",
      "Epoch 12/20\n",
      "469/469 [==============================] - 4s 9ms/step - loss: 1.1265 - accuracy: 0.6114 - val_loss: 2.5561 - val_accuracy: 0.2049\n",
      "Epoch 13/20\n",
      "469/469 [==============================] - 4s 9ms/step - loss: 1.0600 - accuracy: 0.6335 - val_loss: 2.6125 - val_accuracy: 0.1999\n",
      "Epoch 14/20\n",
      "469/469 [==============================] - 5s 10ms/step - loss: 1.0222 - accuracy: 0.6467 - val_loss: 2.6246 - val_accuracy: 0.2012\n",
      "Epoch 15/20\n",
      "469/469 [==============================] - 5s 11ms/step - loss: 0.9811 - accuracy: 0.6616 - val_loss: 2.7057 - val_accuracy: 0.1952\n",
      "Epoch 16/20\n",
      "469/469 [==============================] - 5s 10ms/step - loss: 0.9416 - accuracy: 0.6770 - val_loss: 2.7647 - val_accuracy: 0.2043\n",
      "Epoch 17/20\n",
      "469/469 [==============================] - 5s 11ms/step - loss: 0.9045 - accuracy: 0.6908 - val_loss: 2.7644 - val_accuracy: 0.2042\n",
      "Epoch 18/20\n",
      "469/469 [==============================] - 5s 11ms/step - loss: 0.8768 - accuracy: 0.6999 - val_loss: 2.8180 - val_accuracy: 0.1950\n",
      "Epoch 19/20\n",
      "469/469 [==============================] - 5s 11ms/step - loss: 0.8454 - accuracy: 0.7115 - val_loss: 2.8763 - val_accuracy: 0.1990\n",
      "Epoch 20/20\n",
      "469/469 [==============================] - 5s 10ms/step - loss: 0.8196 - accuracy: 0.7179 - val_loss: 2.8681 - val_accuracy: 0.1990\n",
      "Test loss: 2.8680500984191895\n",
      "Test accuracy: 0.19900000095367432\n"
     ]
    }
   ],
   "source": [
    "scale_vals = [.1, .5, 1.0, 2.0, 4.0]\n",
    "scores = []\n",
    "\n",
    "\n",
    "model = Sequential()\n",
    "scale_val = .1\n",
    "\n",
    "for scale_val in scale_vals:\n",
    "    \n",
    "    # train noise\n",
    "    train_noise = np.random.normal(loc = 0, scale = scale_val, size = (60000, 784))\n",
    "    # test noise\n",
    "    test_noise = np.random.normal(loc = 0, scale = scale_val, size = (10000, 784))\n",
    "    \n",
    "    # the data, shuffled and split between train and test sets\n",
    "    (x_train, y_train), (x_test, y_test) = mnist.load_data()\n",
    "    \n",
    "    x_train = x_train.reshape(60000, 784)\n",
    "    x_test = x_test.reshape(10000, 784)\n",
    "    x_train = x_train.astype('float32')\n",
    "    x_test = x_test.astype('float32')\n",
    "    x_train /= 255\n",
    "    x_test /= 255\n",
    "    \n",
    "    noisy_train = x_train + train_noise\n",
    "    noisy_test = x_test + test_noise\n",
    "    \n",
    "    # with noise\n",
    "    batch_size = 128\n",
    "    num_classes = 10\n",
    "    epochs = 20\n",
    "\n",
    "\n",
    "    # convert class vectors to binary class matrices\n",
    "    y_train = keras.utils.to_categorical(y_train, num_classes)\n",
    "    y_test = keras.utils.to_categorical(y_test, num_classes)\n",
    "\n",
    "    model = Sequential()\n",
    "    model.add(Dense(512, activation='relu', input_shape=(784,)))\n",
    "    model.add(Dropout(0.2))\n",
    "    model.add(Dense(512, activation='relu'))\n",
    "    model.add(Dropout(0.2))\n",
    "    model.add(Dense(10, activation='softmax'))\n",
    "\n",
    "    model.summary()\n",
    "\n",
    "    model.compile(loss='categorical_crossentropy',\n",
    "                  optimizer=\"adam\",\n",
    "                  metrics=['accuracy'])\n",
    "\n",
    "    history = model.fit(noisy_train, y_train,\n",
    "                        batch_size=batch_size,\n",
    "                        epochs=epochs,\n",
    "                        verbose=1,\n",
    "                        validation_data=(noisy_test, y_test))\n",
    "    score = model.evaluate(noisy_test, y_test, verbose=0)\n",
    "    print('Test loss:', score[0])\n",
    "    print('Test accuracy:', score[1])\n",
    "\n",
    "    scores.append(score)\n",
    "    \n",
    "    scale_val += .1\n"
   ]
  },
  {
   "cell_type": "code",
   "execution_count": 28,
   "metadata": {},
   "outputs": [
    {
     "data": {
      "text/plain": [
       "[[0.11990390717983246, 0.9779000282287598],\n",
       " [0.4790455102920532, 0.9190000295639038],\n",
       " [1.5387468338012695, 0.7540000081062317],\n",
       " [2.8354389667510986, 0.4185999929904938],\n",
       " [2.8680500984191895, 0.19900000095367432]]"
      ]
     },
     "execution_count": 28,
     "metadata": {},
     "output_type": "execute_result"
    }
   ],
   "source": [
    "scores"
   ]
  },
  {
   "cell_type": "code",
   "execution_count": 34,
   "metadata": {},
   "outputs": [
    {
     "data": {
      "text/plain": [
       "[0.9779000282287598,\n",
       " 0.9190000295639038,\n",
       " 0.7540000081062317,\n",
       " 0.4185999929904938,\n",
       " 0.19900000095367432]"
      ]
     },
     "execution_count": 34,
     "metadata": {},
     "output_type": "execute_result"
    }
   ],
   "source": [
    "accuracies = [i[1] for i in scores]\n",
    "accuracies"
   ]
  },
  {
   "cell_type": "code",
   "execution_count": 35,
   "metadata": {},
   "outputs": [
    {
     "data": {
      "text/plain": [
       "<matplotlib.collections.PathCollection at 0x208bbba0dc0>"
      ]
     },
     "execution_count": 35,
     "metadata": {},
     "output_type": "execute_result"
    },
    {
     "data": {
      "image/png": "[encoded data removed]",
      "text/plain": [
       "<Figure size 640x480 with 1 Axes>"
      ]
     },
     "metadata": {},
     "output_type": "display_data"
    }
   ],
   "source": [
    "# plot scores\n",
    "plt.scatter(scale_vals, accuracies)"
   ]
  },
  {
   "cell_type": "markdown",
   "metadata": {},
   "source": [
    "Accuracy decreases as scale values increase."
   ]
  }
 ],
 "metadata": {
  "kernelspec": {
   "display_name": "Python 3 (ipykernel)",
   "language": "python",
   "name": "python3"
  },
  "language_info": {
   "codemirror_mode": {
    "name": "ipython",
    "version": 3
   },
   "file_extension": ".py",
   "mimetype": "text/x-python",
   "name": "python",
   "nbconvert_exporter": "python",
   "pygments_lexer": "ipython3",
   "version": "3.9.13"
  }
 },
 "nbformat": 4,
 "nbformat_minor": 2
}
